{
 "cells": [
  {
   "metadata": {},
   "cell_type": "markdown",
   "source": "## Imports",
   "id": "a7571b3fb052a635"
  },
  {
   "cell_type": "code",
   "id": "initial_id",
   "metadata": {
    "collapsed": true,
    "ExecuteTime": {
     "end_time": "2024-05-06T17:30:31.135868Z",
     "start_time": "2024-05-06T17:30:29.794475Z"
    }
   },
   "source": [
    "from imblearn.over_sampling import SMOTENC  # SMOTE for Nominal and Continuous\n",
    "import numpy as np\n",
    "import os\n",
    "import pandas as pd\n",
    "import random\n",
    "from sklearn.preprocessing import StandardScaler, LabelEncoder\n",
    "from sklearn.utils import shuffle\n",
    "from tqdm import tqdm"
   ],
   "execution_count": 1,
   "outputs": []
  },
  {
   "metadata": {},
   "cell_type": "markdown",
   "source": "# Loading",
   "id": "7800077eb66afa24"
  },
  {
   "metadata": {
    "ExecuteTime": {
     "end_time": "2024-05-06T17:30:35.275904Z",
     "start_time": "2024-05-06T17:30:33.655988Z"
    }
   },
   "cell_type": "code",
   "source": [
    "DATASET_DIRECTORY = '../../dataset/'  # If your dataset is within your python project directory, change this to the relative path to your dataset\n",
    "csv_filepaths = [filename for filename in os.listdir(DATASET_DIRECTORY) if filename.endswith('.csv')]\n",
    "\n",
    "print(csv_filepaths)\n",
    "\n",
    "# If there are more than X CSV files, randomly select X files from the list\n",
    "sample_size = 1\n",
    "\n",
    "if len(csv_filepaths) > sample_size:\n",
    "    csv_filepaths = random.sample(csv_filepaths, sample_size)\n",
    "    print(csv_filepaths)\n",
    "\n",
    "csv_filepaths.sort()\n",
    "\n",
    "# list of csv files used\n",
    "data_sets = csv_filepaths\n",
    "\n",
    "num_cols = [\n",
    "    'flow_duration', 'Header_Length', 'Duration', 'Rate', 'Srate', 'ack_count', 'syn_count',\n",
    "    'fin_count', 'urg_count', 'rst_count', 'Tot sum', 'Min', 'Max', 'AVG', 'Std', 'Tot size', \n",
    "    'IAT', 'Number', 'Magnitue', 'Radius', 'Covariance', 'Variance', 'Weight'\n",
    "]\n",
    "cat_cols = [\n",
    "    'Protocol Type', 'Drate', 'fin_flag_number', 'syn_flag_number', 'rst_flag_number',\n",
    "    'psh_flag_number', 'ack_flag_number', 'ece_flag_number', 'cwr_flag_number', 'HTTP', 'HTTPS', \n",
    "    'DNS', 'Telnet', 'SMTP', 'SSH', 'IRC', 'TCP', 'UDP', 'DHCP', 'ARP', 'ICMP', 'IPv', 'LLC'\n",
    "]\n",
    "\n",
    "full_data = pd.DataFrame()\n",
    "for data_set in data_sets:\n",
    "    print(f\"data set {data_set} out of {len(data_sets)} \\n\")\n",
    "    data_path = os.path.join(DATASET_DIRECTORY, data_set)\n",
    "    df = pd.read_csv(data_path)\n",
    "    full_data = pd.concat([full_data, df])\n",
    "\n",
    "# prints an instance of each class\n",
    "print(\"Before encoding:\")\n",
    "unique_labels = full_data['label'].unique()\n",
    "for label in unique_labels:\n",
    "    print(f\"First instance of {label}:\")\n",
    "    print(full_data[full_data['label'] == label].iloc[0])\n",
    "\n",
    "# Shuffle data\n",
    "full_data = shuffle(full_data, random_state=1)\n",
    "\n",
    "# prove if the data is loaded properly\n",
    "print(\"Real data:\")\n",
    "print(full_data[:2])\n",
    "print(full_data.shape)\n",
    "\n",
    "# Assuming 'label' is the column name for the labels in the DataFrame `synth_data`\n",
    "unique_labels = full_data['label'].nunique()\n",
    "\n",
    "# Print the number of unique labels\n",
    "print(f\"There are {unique_labels} unique labels in the dataset.\")\n",
    "\n",
    "class_counts = full_data['label'].value_counts()\n",
    "print(class_counts)\n",
    "\n",
    "# Display the first few entries to verify the changes\n",
    "full_data.describe()"
   ],
   "id": "eb8d1409f0905107",
   "execution_count": 2,
   "outputs": []
  },
  {
   "metadata": {},
   "cell_type": "markdown",
   "source": [
    "# Preprocessing\n",
    "## Encoding Labels"
   ],
   "id": "41752811a0f0f877"
  },
  {
   "metadata": {
    "ExecuteTime": {
     "end_time": "2024-05-06T17:30:40.533904Z",
     "start_time": "2024-05-06T17:30:40.363163Z"
    }
   },
   "cell_type": "code",
   "source": [
    "label_encoder = LabelEncoder()\n",
    "full_data['label'] = label_encoder.fit_transform(full_data['label'])\n",
    "\n",
    "# Store label mappings\n",
    "label_mapping = {index: label for index, label in enumerate(label_encoder.classes_)}\n",
    "print(\"Label mappings:\", label_mapping)\n",
    "\n",
    "# Retrieve the numeric codes for classes\n",
    "class_codes = {label: label_encoder.transform([label])[0] for label in label_encoder.classes_}\n",
    "\n",
    "# Print specific instances after label encoding\n",
    "print(\"After encoding:\")\n",
    "for label, code in class_codes.items():\n",
    "    # Print the first instance of each class\n",
    "    print(f\"First instance of {label} (code {code}):\")\n",
    "    print(full_data[full_data['label'] == code].iloc[0])"
   ],
   "id": "deb73c3fa50d313a",
   "execution_count": 3,
   "outputs": []
  },
  {
   "metadata": {},
   "cell_type": "markdown",
   "source": "Save dataset for later comparison",
   "id": "43b9cb95bc0832e1"
  },
  {
   "metadata": {
    "ExecuteTime": {
     "end_time": "2024-05-06T17:30:43.514605Z",
     "start_time": "2024-05-06T17:30:43.481465Z"
    }
   },
   "cell_type": "code",
   "source": [
    "original_data = full_data.copy()\n",
    "original_data.head()"
   ],
   "id": "9165695899a0f8eb",
   "execution_count": 4,
   "outputs": []
  },
  {
   "metadata": {},
   "cell_type": "markdown",
   "source": "## Preprocessed DataFrame",
   "id": "9239dac461a320e6"
  },
  {
   "metadata": {
    "ExecuteTime": {
     "end_time": "2024-05-06T17:30:54.152654Z",
     "start_time": "2024-05-06T17:30:54.132628Z"
    }
   },
   "cell_type": "code",
   "source": "full_data.head()",
   "id": "92772d6deb5d0048",
   "execution_count": 6,
   "outputs": []
  },
  {
   "metadata": {},
   "cell_type": "markdown",
   "source": "# Sampling (SMOTE Over-Sampling)",
   "id": "2f03f85405da6e1e"
  },
  {
   "metadata": {
    "ExecuteTime": {
     "end_time": "2024-05-06T17:52:57.194415Z",
     "start_time": "2024-05-06T17:42:03.662310Z"
    }
   },
   "cell_type": "code",
   "source": [
    "min_class_size = full_data['label'].value_counts().min()\n",
    "\n",
    "# Apply random over-sampling\n",
    "smote_os = SMOTENC(categorical_features=cat_cols, random_state=42)\n",
    "\n",
    "X = full_data.drop('label', axis=1)\n",
    "y = full_data['label']\n",
    "X_resampled, y_res = smote_os.fit_resample(X, y)\n",
    "\n",
    "# Combine the resampled features and labels back into a single DataFrame\n",
    "full_data_resampled = pd.DataFrame(X_resampled, columns=X.columns)\n",
    "full_data_resampled['label'] = y_res\n",
    "\n",
    "print(\"Resampled Data (SCALED):\")\n",
    "for label, code in class_codes.items():\n",
    "    # Print the first instance of each class\n",
    "    print(f\"First instance of {label} (code {code}):\")\n",
    "    print(full_data_resampled[full_data_resampled['label'] == code].iloc[0])\n",
    "\n",
    "full_data_resampled.head()"
   ],
   "id": "be0ca505b131b5cc",
   "execution_count": 9,
   "outputs": []
  },
  {
   "metadata": {},
   "cell_type": "markdown",
   "source": "# Post-Processing",
   "id": "860e5742f94fe98a"
  },
  {
   "metadata": {},
   "cell_type": "markdown",
   "source": "## Synthetic Data Analysis",
   "id": "23540cccee072751"
  },
  {
   "metadata": {
    "ExecuteTime": {
     "end_time": "2024-05-06T17:54:50.767989Z",
     "start_time": "2024-05-06T17:54:49.614417Z"
    }
   },
   "cell_type": "code",
   "source": "full_data_resampled.describe()",
   "id": "ddacca7fd78e8363",
   "execution_count": 13,
   "outputs": []
  },
  {
   "metadata": {
    "ExecuteTime": {
     "end_time": "2024-05-06T18:09:42.387207Z",
     "start_time": "2024-05-06T18:09:13.670459Z"
    }
   },
   "cell_type": "code",
   "source": [
    "from ydata_profiling import ProfileReport\n",
    "\n",
    "original_report = ProfileReport(original_data, title='Original Data', minimal=True)\n",
    "resampled_report = ProfileReport(full_data_resampled, title='Resampled Data', minimal=True)\n",
    "comparison_report = original_report.compare(resampled_report)\n",
    "comparison_report.to_file('./profile_reports/smote_original_vs_resampled.html')"
   ],
   "id": "5ee88dc4d8d6e4f",
   "execution_count": 16,
   "outputs": []
  }
 ],
 "metadata": {
  "kernelspec": {
   "display_name": "Python 3",
   "language": "python",
   "name": "python3"
  },
  "language_info": {
   "codemirror_mode": {
    "name": "ipython",
    "version": 2
   },
   "file_extension": ".py",
   "mimetype": "text/x-python",
   "name": "python",
   "nbconvert_exporter": "python",
   "pygments_lexer": "ipython2",
   "version": "2.7.6"
  }
 },
 "nbformat": 4,
 "nbformat_minor": 5
}
